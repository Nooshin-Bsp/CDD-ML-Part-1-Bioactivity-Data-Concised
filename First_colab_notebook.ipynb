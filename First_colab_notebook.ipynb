{
  "nbformat": 4,
  "nbformat_minor": 0,
  "metadata": {
    "colab": {
      "provenance": [],
      "authorship_tag": "ABX9TyNJWsiBHl4doLZFslkdU37i",
      "include_colab_link": true
    },
    "kernelspec": {
      "name": "python3",
      "display_name": "Python 3"
    },
    "language_info": {
      "name": "python"
    },
    "accelerator": "GPU",
    "gpuClass": "standard"
  },
  "cells": [
    {
      "cell_type": "markdown",
      "metadata": {
        "id": "view-in-github",
        "colab_type": "text"
      },
      "source": [
        "<a href=\"https://colab.research.google.com/github/Nooshin-Bsp/CDD-ML-Part-1-Bioactivity-Data-Concised/blob/main/First_colab_notebook.ipynb\" target=\"_parent\"><img src=\"https://colab.research.google.com/assets/colab-badge.svg\" alt=\"Open In Colab\"/></a>"
      ]
    },
    {
      "cell_type": "code",
      "execution_count": null,
      "metadata": {
        "id": "bfk8aH-f_rpm"
      },
      "outputs": [],
      "source": [
        "import numpy as np\n",
        "from tensorflow import keras\n",
        "from keras.constraints import maxnorm\n",
        "from keras.models import Sequential, load_model\n",
        "from keras.layers import Conv2D, MaxPool2D, Dense, Dropout, Flatten\n",
        "from keras.layers import BatchNormalization\n",
        "from keras.callbacks import EarlyStopping\n",
        "from sklearn.metrics import confusion_matrix\n",
        "from keras.utils import np_utils\n",
        "from keras.datasets import cifar10\n",
        "from keras.utils import np_utils\n",
        "from keras.datasets import cifar10\n",
        "import matplotlib.pyplot as plt"
      ]
    },
    {
      "cell_type": "code",
      "source": [
        "(X_train, y_train), (X_test, y_test) = cifar10.load_data()"
      ],
      "metadata": {
        "colab": {
          "base_uri": "https://localhost:8080/"
        },
        "id": "ZL3Ab-UXDHxh",
        "outputId": "7678e972-2443-4a6e-badc-e6477d0b2630"
      },
      "execution_count": null,
      "outputs": [
        {
          "output_type": "stream",
          "name": "stdout",
          "text": [
            "Downloading data from https://www.cs.toronto.edu/~kriz/cifar-10-python.tar.gz\n",
            "170498071/170498071 [==============================] - 2s 0us/step\n"
          ]
        }
      ]
    },
    {
      "cell_type": "markdown",
      "source": [
        "#Normalizing"
      ],
      "metadata": {
        "id": "Q2ZsGeBgjuPK"
      }
    },
    {
      "cell_type": "code",
      "source": [
        "X_train = X_train.astype('float32')\n",
        "X_test = X_test.astype('float32')\n",
        "X_train = X_train / 255.0\n",
        "X_test = X_test / 255.0\n"
      ],
      "metadata": {
        "id": "OOjByIvziL16"
      },
      "execution_count": null,
      "outputs": []
    },
    {
      "cell_type": "markdown",
      "source": [
        "#One_hot encoding"
      ],
      "metadata": {
        "id": "rbSQOoADj3ld"
      }
    },
    {
      "cell_type": "code",
      "source": [
        "y_train[0]"
      ],
      "metadata": {
        "colab": {
          "base_uri": "https://localhost:8080/"
        },
        "id": "evEoMlx8jml7",
        "outputId": "a72b80c9-12e9-43ff-d7d4-f595b72847ba"
      },
      "execution_count": null,
      "outputs": [
        {
          "output_type": "execute_result",
          "data": {
            "text/plain": [
              "array([6], dtype=uint8)"
            ]
          },
          "metadata": {},
          "execution_count": 4
        }
      ]
    },
    {
      "cell_type": "code",
      "source": [
        "plt.imshow(X_train[0])"
      ],
      "metadata": {
        "colab": {
          "base_uri": "https://localhost:8080/",
          "height": 447
        },
        "id": "tSi-EcxmkPtt",
        "outputId": "605a1941-44f6-41a8-cde3-d5530b11f7dd"
      },
      "execution_count": null,
      "outputs": [
        {
          "output_type": "execute_result",
          "data": {
            "text/plain": [
              "<matplotlib.image.AxesImage at 0x7f56eac51250>"
            ]
          },
          "metadata": {},
          "execution_count": 5
        },
        {
          "output_type": "display_data",
          "data": {
            "text/plain": [
              "<Figure size 640x480 with 1 Axes>"
            ],
            "image/png": "[encoded data removed]"
          },
          "metadata": {}
        }
      ]
    },
    {
      "cell_type": "code",
      "source": [
        "y_train = np_utils.to_categorical(y_train)\n",
        "y_test = np_utils.to_categorical(y_test)"
      ],
      "metadata": {
        "id": "8MqFE3q_zYAX"
      },
      "execution_count": null,
      "outputs": []
    },
    {
      "cell_type": "code",
      "source": [
        "y_train[2]"
      ],
      "metadata": {
        "colab": {
          "base_uri": "https://localhost:8080/"
        },
        "id": "kP_DgC0lzccF",
        "outputId": "536dae22-1483-4665-a8c5-1707c3edc31e"
      },
      "execution_count": null,
      "outputs": [
        {
          "output_type": "execute_result",
          "data": {
            "text/plain": [
              "array([0., 0., 0., 0., 0., 0., 0., 0., 0., 1.], dtype=float32)"
            ]
          },
          "metadata": {},
          "execution_count": 7
        }
      ]
    },
    {
      "cell_type": "code",
      "source": [
        "num_class = y_test.shape[1] #10"
      ],
      "metadata": {
        "id": "ysSS7kDUX4Zv"
      },
      "execution_count": null,
      "outputs": []
    },
    {
      "cell_type": "markdown",
      "source": [
        "#bulding model"
      ],
      "metadata": {
        "id": "DNGVRZWoNiCf"
      }
    },
    {
      "cell_type": "code",
      "source": [
        "model = Sequential()\n",
        "model.add(Conv2D(32, (3,3), padding='same', input_shape=X_train.shape[1:], activation='relu'))\n",
        "model.add(Dropout(0.2))\n",
        "model.add(BatchNormalization())\n",
        "model.add(Conv2D(64, (3,3), padding='same', activation='relu'))\n",
        "model.add(MaxPool2D(2))\n",
        "model.add(Dropout(0.2))\n",
        "model.add(BatchNormalization())\n",
        "model.add(Conv2D(64, (3,3), padding='same', activation='relu'))\n",
        "model.add(MaxPool2D(2))\n",
        "model.add(Dropout(0.2))\n",
        "model.add(BatchNormalization())\n",
        "model.add(Conv2D(128, (3,3), padding='same', activation='relu'))\n",
        "model.add(MaxPool2D(2))\n",
        "model.add(Dropout(0.2))\n",
        "model.add(BatchNormalization())\n",
        "model.add(Flatten())\n",
        "model.add(Dense(32, activation='relu'))\n",
        "model.add(Dropout(0.2))\n",
        "model.add(BatchNormalization())\n",
        "model.add(Dense(num_class, activation = 'softmax'))"
      ],
      "metadata": {
        "id": "vA9oToJ7Nd1J"
      },
      "execution_count": null,
      "outputs": []
    },
    {
      "cell_type": "code",
      "source": [
        "model.compile(loss='categorical_crossentropy', optimizer = 'adam', metrics = ['accuracy'])"
      ],
      "metadata": {
        "id": "t_L6bMhPmpVX"
      },
      "execution_count": null,
      "outputs": []
    },
    {
      "cell_type": "code",
      "source": [
        "model.summary()"
      ],
      "metadata": {
        "colab": {
          "base_uri": "https://localhost:8080/"
        },
        "id": "AjvFVc7QmsOT",
        "outputId": "5649a524-7ff2-441f-ffcb-9afbee90e5b4"
      },
      "execution_count": null,
      "outputs": [
        {
          "output_type": "stream",
          "name": "stdout",
          "text": [
            "Model: \"sequential_1\"\n",
            "_________________________________________________________________\n",
            " Layer (type)                Output Shape              Param #   \n",
            "=================================================================\n",
            " conv2d_4 (Conv2D)           (None, 32, 32, 32)        896       \n",
            "                                                                 \n",
            " dropout (Dropout)           (None, 32, 32, 32)        0         \n",
            "                                                                 \n",
            " batch_normalization (BatchN  (None, 32, 32, 32)       128       \n",
            " ormalization)                                                   \n",
            "                                                                 \n",
            " conv2d_5 (Conv2D)           (None, 32, 32, 64)        18496     \n",
            "                                                                 \n",
            " max_pooling2d_3 (MaxPooling  (None, 16, 16, 64)       0         \n",
            " 2D)                                                             \n",
            "                                                                 \n",
            " dropout_1 (Dropout)         (None, 16, 16, 64)        0         \n",
            "                                                                 \n",
            " batch_normalization_1 (Batc  (None, 16, 16, 64)       256       \n",
            " hNormalization)                                                 \n",
            "                                                                 \n",
            " conv2d_6 (Conv2D)           (None, 16, 16, 64)        36928     \n",
            "                                                                 \n",
            " max_pooling2d_4 (MaxPooling  (None, 8, 8, 64)         0         \n",
            " 2D)                                                             \n",
            "                                                                 \n",
            " dropout_2 (Dropout)         (None, 8, 8, 64)          0         \n",
            "                                                                 \n",
            " batch_normalization_2 (Batc  (None, 8, 8, 64)         256       \n",
            " hNormalization)                                                 \n",
            "                                                                 \n",
            " conv2d_7 (Conv2D)           (None, 8, 8, 128)         73856     \n",
            "                                                                 \n",
            " max_pooling2d_5 (MaxPooling  (None, 4, 4, 128)        0         \n",
            " 2D)                                                             \n",
            "                                                                 \n",
            " dropout_3 (Dropout)         (None, 4, 4, 128)         0         \n",
            "                                                                 \n",
            " batch_normalization_3 (Batc  (None, 4, 4, 128)        512       \n",
            " hNormalization)                                                 \n",
            "                                                                 \n",
            " flatten_1 (Flatten)         (None, 2048)              0         \n",
            "                                                                 \n",
            " dense_2 (Dense)             (None, 32)                65568     \n",
            "                                                                 \n",
            " dropout_4 (Dropout)         (None, 32)                0         \n",
            "                                                                 \n",
            " batch_normalization_4 (Batc  (None, 32)               128       \n",
            " hNormalization)                                                 \n",
            "                                                                 \n",
            " dense_3 (Dense)             (None, 10)                330       \n",
            "                                                                 \n",
            "=================================================================\n",
            "Total params: 197,354\n",
            "Trainable params: 196,714\n",
            "Non-trainable params: 640\n",
            "_________________________________________________________________\n"
          ]
        }
      ]
    },
    {
      "cell_type": "markdown",
      "source": [
        "#trainig the model"
      ],
      "metadata": {
        "id": "YJ_vVXrtnODV"
      }
    },
    {
      "cell_type": "code",
      "source": [
        "history = model.fit(X_train, y_train, validation_data=(X_test, y_test), epochs=30, batch_size=64)"
      ],
      "metadata": {
        "colab": {
          "base_uri": "https://localhost:8080/"
        },
        "id": "7L4Gm_nXAMyQ",
        "outputId": "075cf2aa-5d58-4371-c885-267f12c1ee4d"
      },
      "execution_count": null,
      "outputs": [
        {
          "output_type": "stream",
          "name": "stdout",
          "text": [
            "Epoch 1/30\n",
            "782/782 [==============================] - 14s 12ms/step - loss: 1.5351 - accuracy: 0.4523 - val_loss: 1.2747 - val_accuracy: 0.5501\n",
            "Epoch 2/30\n",
            "782/782 [==============================] - 9s 12ms/step - loss: 1.0889 - accuracy: 0.6171 - val_loss: 0.9021 - val_accuracy: 0.6877\n",
            "Epoch 3/30\n",
            "782/782 [==============================] - 9s 12ms/step - loss: 0.9311 - accuracy: 0.6720 - val_loss: 0.8084 - val_accuracy: 0.7188\n",
            "Epoch 4/30\n",
            "782/782 [==============================] - 10s 13ms/step - loss: 0.8488 - accuracy: 0.7078 - val_loss: 0.7594 - val_accuracy: 0.7359\n",
            "Epoch 5/30\n",
            "782/782 [==============================] - 9s 12ms/step - loss: 0.7775 - accuracy: 0.7320 - val_loss: 0.7004 - val_accuracy: 0.7533\n",
            "Epoch 6/30\n",
            "782/782 [==============================] - 9s 12ms/step - loss: 0.7365 - accuracy: 0.7434 - val_loss: 0.6399 - val_accuracy: 0.7775\n",
            "Epoch 7/30\n",
            "782/782 [==============================] - 9s 12ms/step - loss: 0.7010 - accuracy: 0.7570 - val_loss: 0.6483 - val_accuracy: 0.7800\n",
            "Epoch 8/30\n",
            "782/782 [==============================] - 9s 12ms/step - loss: 0.6747 - accuracy: 0.7658 - val_loss: 0.7794 - val_accuracy: 0.7274\n",
            "Epoch 9/30\n",
            "782/782 [==============================] - 9s 12ms/step - loss: 0.6457 - accuracy: 0.7785 - val_loss: 0.7226 - val_accuracy: 0.7556\n",
            "Epoch 10/30\n",
            "782/782 [==============================] - 9s 12ms/step - loss: 0.6253 - accuracy: 0.7847 - val_loss: 0.5660 - val_accuracy: 0.8068\n",
            "Epoch 11/30\n",
            "782/782 [==============================] - 9s 12ms/step - loss: 0.6094 - accuracy: 0.7886 - val_loss: 0.6487 - val_accuracy: 0.7787\n",
            "Epoch 12/30\n",
            "782/782 [==============================] - 9s 12ms/step - loss: 0.5911 - accuracy: 0.7943 - val_loss: 0.5740 - val_accuracy: 0.8020\n",
            "Epoch 13/30\n",
            "782/782 [==============================] - 9s 12ms/step - loss: 0.5736 - accuracy: 0.8016 - val_loss: 0.5490 - val_accuracy: 0.8102\n",
            "Epoch 14/30\n",
            "782/782 [==============================] - 9s 12ms/step - loss: 0.5652 - accuracy: 0.8043 - val_loss: 0.5737 - val_accuracy: 0.8033\n",
            "Epoch 15/30\n",
            "782/782 [==============================] - 9s 12ms/step - loss: 0.5502 - accuracy: 0.8091 - val_loss: 0.5997 - val_accuracy: 0.7932\n",
            "Epoch 16/30\n",
            "782/782 [==============================] - 9s 12ms/step - loss: 0.5375 - accuracy: 0.8144 - val_loss: 0.5394 - val_accuracy: 0.8182\n",
            "Epoch 17/30\n",
            "782/782 [==============================] - 9s 12ms/step - loss: 0.5388 - accuracy: 0.8121 - val_loss: 0.5355 - val_accuracy: 0.8159\n",
            "Epoch 18/30\n",
            "782/782 [==============================] - 9s 12ms/step - loss: 0.5178 - accuracy: 0.8182 - val_loss: 0.5586 - val_accuracy: 0.8079\n",
            "Epoch 19/30\n",
            "782/782 [==============================] - 9s 12ms/step - loss: 0.5164 - accuracy: 0.8198 - val_loss: 0.5337 - val_accuracy: 0.8204\n",
            "Epoch 20/30\n",
            "782/782 [==============================] - 9s 12ms/step - loss: 0.4995 - accuracy: 0.8256 - val_loss: 0.5405 - val_accuracy: 0.8143\n",
            "Epoch 21/30\n",
            "782/782 [==============================] - 9s 12ms/step - loss: 0.4888 - accuracy: 0.8288 - val_loss: 0.5170 - val_accuracy: 0.8256\n",
            "Epoch 22/30\n",
            "782/782 [==============================] - 9s 12ms/step - loss: 0.4867 - accuracy: 0.8318 - val_loss: 0.5314 - val_accuracy: 0.8211\n",
            "Epoch 23/30\n",
            "782/782 [==============================] - 9s 12ms/step - loss: 0.4829 - accuracy: 0.8312 - val_loss: 0.5046 - val_accuracy: 0.8285\n",
            "Epoch 24/30\n",
            "782/782 [==============================] - 9s 12ms/step - loss: 0.4746 - accuracy: 0.8344 - val_loss: 0.5173 - val_accuracy: 0.8254\n",
            "Epoch 25/30\n",
            "782/782 [==============================] - 9s 12ms/step - loss: 0.4667 - accuracy: 0.8357 - val_loss: 0.5071 - val_accuracy: 0.8273\n",
            "Epoch 26/30\n",
            "782/782 [==============================] - 9s 12ms/step - loss: 0.4615 - accuracy: 0.8366 - val_loss: 0.5139 - val_accuracy: 0.8296\n",
            "Epoch 27/30\n",
            "782/782 [==============================] - 10s 12ms/step - loss: 0.4527 - accuracy: 0.8417 - val_loss: 0.5083 - val_accuracy: 0.8310\n",
            "Epoch 28/30\n",
            "782/782 [==============================] - 10s 12ms/step - loss: 0.4535 - accuracy: 0.8405 - val_loss: 0.5200 - val_accuracy: 0.8268\n",
            "Epoch 29/30\n",
            "782/782 [==============================] - 9s 12ms/step - loss: 0.4414 - accuracy: 0.8468 - val_loss: 0.4969 - val_accuracy: 0.8354\n",
            "Epoch 30/30\n",
            "782/782 [==============================] - 10s 13ms/step - loss: 0.4427 - accuracy: 0.8457 - val_loss: 0.5150 - val_accuracy: 0.8295\n"
          ]
        }
      ]
    },
    {
      "cell_type": "code",
      "source": [
        "for key,val in history.history.items():\n",
        "  print(key)"
      ],
      "metadata": {
        "colab": {
          "base_uri": "https://localhost:8080/"
        },
        "id": "Ud1LtHML74iG",
        "outputId": "c2154fa2-dff7-41d0-f5e8-714049f114ab"
      },
      "execution_count": null,
      "outputs": [
        {
          "output_type": "stream",
          "name": "stdout",
          "text": [
            "loss\n",
            "accuracy\n",
            "val_loss\n",
            "val_accuracy\n"
          ]
        }
      ]
    },
    {
      "cell_type": "code",
      "source": [
        "import pandas as pd"
      ],
      "metadata": {
        "id": "ARXMyBMc-Iah"
      },
      "execution_count": null,
      "outputs": []
    },
    {
      "cell_type": "code",
      "source": [
        "pd.DataFrame(history.history).plot()"
      ],
      "metadata": {
        "colab": {
          "base_uri": "https://localhost:8080/",
          "height": 447
        },
        "id": "R3t98TMX-31Y",
        "outputId": "520efccd-565b-4b7d-d354-453723b986da"
      },
      "execution_count": null,
      "outputs": [
        {
          "output_type": "execute_result",
          "data": {
            "text/plain": [
              "<Axes: >"
            ]
          },
          "metadata": {},
          "execution_count": 32
        },
        {
          "output_type": "display_data",
          "data": {
            "text/plain": [
              "<Figure size 640x480 with 1 Axes>"
            ],
            "image/png": "[encoded data removed]"
          },
          "metadata": {}
        }
      ]
    },
    {
      "cell_type": "code",
      "source": [
        "model.save('CNN_cifar10.h5')"
      ],
      "metadata": {
        "id": "aR0x7Qw8G5ye"
      },
      "execution_count": null,
      "outputs": []
    },
    {
      "cell_type": "code",
      "source": [
        "model2 = load_model('CNN_cifar10.h5')"
      ],
      "metadata": {
        "id": "fy4MecZ5HDRd"
      },
      "execution_count": null,
      "outputs": []
    },
    {
      "cell_type": "code",
      "source": [
        "import numpy as np"
      ],
      "metadata": {
        "id": "8Nu_i4mxIMyv"
      },
      "execution_count": null,
      "outputs": []
    },
    {
      "cell_type": "code",
      "source": [
        "np.argmax(model2.predict(X_test[0:10])[4])"
      ],
      "metadata": {
        "colab": {
          "base_uri": "https://localhost:8080/"
        },
        "id": "3L4t0u2bIGhF",
        "outputId": "204fc24a-d158-4019-eed5-e6dd1513c73d"
      },
      "execution_count": null,
      "outputs": [
        {
          "output_type": "stream",
          "name": "stdout",
          "text": [
            "1/1 [==============================] - 0s 19ms/step\n"
          ]
        },
        {
          "output_type": "execute_result",
          "data": {
            "text/plain": [
              "6"
            ]
          },
          "metadata": {},
          "execution_count": 41
        }
      ]
    },
    {
      "cell_type": "code",
      "source": [
        "labels = ['airplane', 'automobile', 'bird', 'cat', 'deer', 'dog', 'frog', 'horse', 'ship', 'truck']"
      ],
      "metadata": {
        "id": "ayg1tbd3Iatg"
      },
      "execution_count": null,
      "outputs": []
    },
    {
      "cell_type": "code",
      "source": [
        "labels[6]"
      ],
      "metadata": {
        "colab": {
          "base_uri": "https://localhost:8080/",
          "height": 35
        },
        "id": "8HeOq5HFIcGm",
        "outputId": "848670dc-2805-4de8-b9f9-eeedd5e6429d"
      },
      "execution_count": null,
      "outputs": [
        {
          "output_type": "execute_result",
          "data": {
            "text/plain": [
              "'frog'"
            ],
            "application/vnd.google.colaboratory.intrinsic+json": {
              "type": "string"
            }
          },
          "metadata": {},
          "execution_count": 42
        }
      ]
    }
  ]
}